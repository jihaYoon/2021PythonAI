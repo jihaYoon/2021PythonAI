{
 "cells": [
  {
   "cell_type": "code",
   "execution_count": 3,
   "id": "76cbdc60",
   "metadata": {},
   "outputs": [],
   "source": [
    "import warnings\n",
    "warnings.filterwarnings(action='ignore')\n",
    "import requests\n",
    "from bs4 import BeautifulSoup\n",
    "from datetime import datetime as df"
   ]
  },
  {
   "cell_type": "code",
   "execution_count": 28,
   "id": "2c27780d",
   "metadata": {},
   "outputs": [
    {
     "name": "stdout",
     "output_type": "stream",
     "text": [
      "<Response [200]>\n"
     ]
    }
   ],
   "source": [
    "targetSite = 'https://www.nate.com/'\n",
    "request = requests.get(targetSite)\n",
    "\n",
    "html = request.text\n",
    "soup = BeautifulSoup(html,'html.parser')\n",
    "\n",
    "print(request)"
   ]
  },
  {
   "cell_type": "code",
   "execution_count": 29,
   "id": "3f37f15d",
   "metadata": {},
   "outputs": [
    {
     "name": "stdout",
     "output_type": "stream",
     "text": [
      "생생정보 new\n",
      "보이스 김무열 변요한에 하락2\n",
      "FC서울 박진섭 안익수 하락2\n",
      "돌싱글즈 하락2\n",
      "9월 유출 자백 하락2\n"
     ]
    }
   ],
   "source": [
    "# 순위\n",
    "ranks = soup.findAll('span',{'class':'num_rank'})\n",
    "#print(ranks)\n",
    "\n",
    "#for rank in ranks[:5]:\n",
    "#    print(rank.text)\n",
    "\n",
    "# 실시간 이슈 키워드와 상승/하락 폭 크롤링\n",
    "issues = soup.findAll('a',{'class':'ik'})\n",
    "#print(issues)\n",
    "# for issue in issues:\n",
    "    #print(issue.text.strip().split('\\n'))\n",
    "    #print(issue.text.strip().split('\\n')[0],issue.text.strip().split('\\n')[1])"
   ]
  },
  {
   "cell_type": "code",
   "execution_count": 50,
   "id": "2077413e",
   "metadata": {},
   "outputs": [
    {
     "name": "stdout",
     "output_type": "stream",
     "text": [
      " 6위: 생생정보 new\n",
      " 7위: 보이스 김무열 변요한에 [↓2]\n",
      " 8위: FC서울 박진섭 안익수 [↓2]\n",
      " 9위: 돌싱글즈 [↓2]\n",
      "10위: 9월 유출 자백 [↓2]\n"
     ]
    }
   ],
   "source": [
    "for i in range(5):\n",
    "    rank = ranks[i].text\n",
    "    issue = issues[i].text.strip().split('\\n')[0]\n",
    "    upDown = issues[i].text.strip().split('\\n')[1]\n",
    "    print('{0:>2s}위: {1}'.format(rank,issue),end=' ')\n",
    "    if upDown[:2] == '상승':\n",
    "        print('[{}{}]'.format('↑',upDown[2:]))\n",
    "    elif upDown[:2] == '하락':\n",
    "        print('[{}{}]'.format('↓',upDown[2:]))\n",
    "    elif upDown[:2] == '동일':\n",
    "        print('[-]')\n",
    "    else:\n",
    "        print('new')"
   ]
  }
 ],
 "metadata": {
  "kernelspec": {
   "display_name": "Python 3 (ipykernel)",
   "language": "python",
   "name": "python3"
  },
  "language_info": {
   "codemirror_mode": {
    "name": "ipython",
    "version": 3
   },
   "file_extension": ".py",
   "mimetype": "text/x-python",
   "name": "python",
   "nbconvert_exporter": "python",
   "pygments_lexer": "ipython3",
   "version": "3.9.6"
  }
 },
 "nbformat": 4,
 "nbformat_minor": 5
}
